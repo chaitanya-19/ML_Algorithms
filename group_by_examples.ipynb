{
 "cells": [
  {
   "cell_type": "code",
   "execution_count": 3,
   "metadata": {},
   "outputs": [
    {
     "data": {
      "text/plain": [
       "<pandas.core.groupby.generic.DataFrameGroupBy object at 0x0000003D2F3C1CC8>"
      ]
     },
     "execution_count": 3,
     "metadata": {},
     "output_type": "execute_result"
    }
   ],
   "source": [
    "import pandas as pd\n",
    "\n",
    "ipl_data = {'Team': ['Riders', 'Riders', 'Devils', 'Devils', 'Kings',\n",
    "   'kings', 'Kings', 'Kings', 'Riders', 'Royals', 'Royals', 'Riders'],\n",
    "   'Rank': [1, 2, 2, 3, 3,4 ,1 ,1,2 , 4,1,2],\n",
    "   'Year': [2014,2015,2014,2015,2014,2015,2016,2017,2016,2014,2015,2017],\n",
    "   'Points':[876,789,863,673,741,812,756,788,694,701,804,690]}\n",
    "df = pd.DataFrame(ipl_data)\n",
    "df.groupby('Team')"
   ]
  },
  {
   "cell_type": "code",
   "execution_count": 40,
   "metadata": {},
   "outputs": [
    {
     "name": "stdout",
     "output_type": "stream",
     "text": [
      "      Team  Rank  Year Points\n",
      "0   Riders     1  2014    876\n",
      "1   Riders     2  2015    789\n",
      "2   Devils     2  2014    863\n",
      "3   Devils     3  2015    673\n",
      "4    Kings     3  2014    741\n",
      "5    kings     4  2015    812\n",
      "6    Kings     1  2016    756\n",
      "7    Kings     1  2017    788\n",
      "8   Riders     2  2016    694\n",
      "9   Royals     4  2014    701\n",
      "10  Royals     1  2015    804\n",
      "11  Riders     2  2017    690\n",
      "12     awe     4  2022     NA\n",
      "13     wrf     5  2022    344\n",
      "14    qrqg     6  2022    141\n",
      "-----------------------------\n",
      "    Rank  Year Points\n",
      "0      1  2014    876\n",
      "1      2  2015    789\n",
      "2      2  2014    863\n",
      "3      3  2015    673\n",
      "4      3  2014    741\n",
      "5      4  2015    812\n",
      "6      1  2016    756\n",
      "7      1  2017    788\n",
      "8      2  2016    694\n",
      "9      4  2014    701\n",
      "10     1  2015    804\n",
      "11     2  2017    690\n",
      "12     4  2022     NA\n",
      "13     5  2022    344\n",
      "14     6  2022    141\n",
      "-----------------------------\n",
      "   Rank  Year Points\n",
      "0     1  2014    876\n",
      "2     2  2014    863\n",
      "4     3  2014    741\n",
      "9     4  2014    701\n",
      "    Rank  Year Points\n",
      "1      2  2015    789\n",
      "3      3  2015    673\n",
      "5      4  2015    812\n",
      "10     1  2015    804\n",
      "   Rank  Year Points\n",
      "6     1  2016    756\n",
      "8     2  2016    694\n",
      "    Rank  Year Points\n",
      "7      1  2017    788\n",
      "11     2  2017    690\n",
      "    Rank  Year Points\n",
      "12     4  2022     NA\n",
      "13     5  2022    344\n",
      "14     6  2022    141\n"
     ]
    }
   ],
   "source": [
    "# import the pandas library\n",
    "import pandas as pd\n",
    "count=0\n",
    "ipl_data = {'Team': ['Riders', 'Riders', 'Devils', 'Devils', 'Kings',\n",
    "   'kings', 'Kings', 'Kings', 'Riders', 'Royals', 'Royals', 'Riders',\"awe\",\"wrf\",\"qrqg\"],\n",
    "   'Rank': [1, 2, 2, 3, 3,4 ,1 ,1,2 , 4,1,2,4,5,6],\n",
    "   'Year': [2014,2015,2014,2015,2014,2015,2016,2017,2016,2014,2015,2017,2022,2022,2022],\n",
    "   'Points':[876,789,863,673,741,812,756,788,694,701,804,690,'NA',344,141]}\n",
    "df = pd.DataFrame(ipl_data)\n",
    "print(df)\n",
    "print(\"-----------------------------\")\n",
    "df_2=df.drop(['Team'],axis=1)\n",
    "grouped = df_2.groupby('Year')\n",
    "print(df_2)\n",
    "print(\"-----------------------------\")\n",
    "for name,group in grouped:\n",
    "    if grouped.Year==2014:\n",
    "        count=count+1;\n",
    "    print(group)\n",
    "        \n",
    "   # print(name)\n",
    "df_3=grouped.get_group(2022)"
   ]
  },
  {
   "cell_type": "code",
   "execution_count": 41,
   "metadata": {},
   "outputs": [
    {
     "data": {
      "text/html": [
       "<div>\n",
       "<style scoped>\n",
       "    .dataframe tbody tr th:only-of-type {\n",
       "        vertical-align: middle;\n",
       "    }\n",
       "\n",
       "    .dataframe tbody tr th {\n",
       "        vertical-align: top;\n",
       "    }\n",
       "\n",
       "    .dataframe thead th {\n",
       "        text-align: right;\n",
       "    }\n",
       "</style>\n",
       "<table border=\"1\" class=\"dataframe\">\n",
       "  <thead>\n",
       "    <tr style=\"text-align: right;\">\n",
       "      <th></th>\n",
       "      <th>Rank</th>\n",
       "      <th>Year</th>\n",
       "      <th>Points</th>\n",
       "    </tr>\n",
       "  </thead>\n",
       "  <tbody>\n",
       "    <tr>\n",
       "      <th>12</th>\n",
       "      <td>4</td>\n",
       "      <td>2022</td>\n",
       "      <td>NA</td>\n",
       "    </tr>\n",
       "    <tr>\n",
       "      <th>13</th>\n",
       "      <td>5</td>\n",
       "      <td>2022</td>\n",
       "      <td>344</td>\n",
       "    </tr>\n",
       "    <tr>\n",
       "      <th>14</th>\n",
       "      <td>6</td>\n",
       "      <td>2022</td>\n",
       "      <td>141</td>\n",
       "    </tr>\n",
       "  </tbody>\n",
       "</table>\n",
       "</div>"
      ],
      "text/plain": [
       "    Rank  Year Points\n",
       "12     4  2022     NA\n",
       "13     5  2022    344\n",
       "14     6  2022    141"
      ]
     },
     "execution_count": 41,
     "metadata": {},
     "output_type": "execute_result"
    }
   ],
   "source": [
    "df_3"
   ]
  },
  {
   "cell_type": "code",
   "execution_count": 42,
   "metadata": {},
   "outputs": [
    {
     "data": {
      "text/plain": [
       "12    1013.0\n",
       "13    1013.5\n",
       "14    1014.0\n",
       "dtype: float64"
      ]
     },
     "execution_count": 42,
     "metadata": {},
     "output_type": "execute_result"
    }
   ],
   "source": [
    "df_3.mean(axis=1)"
   ]
  },
  {
   "cell_type": "code",
   "execution_count": 43,
   "metadata": {},
   "outputs": [
    {
     "data": {
      "text/plain": [
       "Rank       5.0\n",
       "Year    2022.0\n",
       "dtype: float64"
      ]
     },
     "execution_count": 43,
     "metadata": {},
     "output_type": "execute_result"
    }
   ],
   "source": [
    "df_3.mean(axis=0)"
   ]
  },
  {
   "cell_type": "code",
   "execution_count": null,
   "metadata": {},
   "outputs": [],
   "source": []
  }
 ],
 "metadata": {
  "kernelspec": {
   "display_name": "Python 3",
   "language": "python",
   "name": "python3"
  },
  "language_info": {
   "codemirror_mode": {
    "name": "ipython",
    "version": 3
   },
   "file_extension": ".py",
   "mimetype": "text/x-python",
   "name": "python",
   "nbconvert_exporter": "python",
   "pygments_lexer": "ipython3",
   "version": "3.7.6"
  }
 },
 "nbformat": 4,
 "nbformat_minor": 4
}
